{
  "nbformat": 4,
  "nbformat_minor": 0,
  "metadata": {
    "colab": {
      "provenance": [],
      "collapsed_sections": [
        "tl5JM0DNUOIE",
        "kddU6dfvUdwh"
      ],
      "authorship_tag": "ABX9TyN9uIK9tP1ts7xdXTb+C/bg",
      "include_colab_link": true
    },
    "kernelspec": {
      "name": "python3",
      "display_name": "Python 3"
    },
    "language_info": {
      "name": "python"
    }
  },
  "cells": [
    {
      "cell_type": "markdown",
      "metadata": {
        "id": "view-in-github",
        "colab_type": "text"
      },
      "source": [
        "<a href=\"https://colab.research.google.com/github/joseeph/Creative_support_index_gradio_app/blob/main/CSI_survey_UI_to_csv.ipynb\" target=\"_parent\"><img src=\"https://colab.research.google.com/assets/colab-badge.svg\" alt=\"Open In Colab\"/></a>"
      ]
    },
    {
      "cell_type": "markdown",
      "source": [
        "## installation and env setup"
      ],
      "metadata": {
        "id": "tl5JM0DNUOIE"
      }
    },
    {
      "cell_type": "code",
      "source": [
        "pip install gradio"
      ],
      "metadata": {
        "colab": {
          "base_uri": "https://localhost:8080/"
        },
        "id": "mF4NR511HG_5",
        "outputId": "f412693a-9711-43f1-d59f-5748d9aaa244"
      },
      "execution_count": 3,
      "outputs": [
        {
          "output_type": "stream",
          "name": "stdout",
          "text": [
            "Requirement already satisfied: gradio in /usr/local/lib/python3.10/dist-packages (4.5.0)\n",
            "Requirement already satisfied: aiofiles<24.0,>=22.0 in /usr/local/lib/python3.10/dist-packages (from gradio) (23.2.1)\n",
            "Requirement already satisfied: altair<6.0,>=4.2.0 in /usr/local/lib/python3.10/dist-packages (from gradio) (4.2.2)\n",
            "Requirement already satisfied: fastapi in /usr/local/lib/python3.10/dist-packages (from gradio) (0.104.1)\n",
            "Requirement already satisfied: ffmpy in /usr/local/lib/python3.10/dist-packages (from gradio) (0.3.1)\n",
            "Requirement already satisfied: gradio-client==0.7.0 in /usr/local/lib/python3.10/dist-packages (from gradio) (0.7.0)\n",
            "Requirement already satisfied: httpx in /usr/local/lib/python3.10/dist-packages (from gradio) (0.25.1)\n",
            "Requirement already satisfied: huggingface-hub>=0.14.0 in /usr/local/lib/python3.10/dist-packages (from gradio) (0.19.3)\n",
            "Requirement already satisfied: importlib-resources<7.0,>=1.3 in /usr/local/lib/python3.10/dist-packages (from gradio) (6.1.1)\n",
            "Requirement already satisfied: jinja2<4.0 in /usr/local/lib/python3.10/dist-packages (from gradio) (3.1.2)\n",
            "Requirement already satisfied: markupsafe~=2.0 in /usr/local/lib/python3.10/dist-packages (from gradio) (2.1.3)\n",
            "Requirement already satisfied: matplotlib~=3.0 in /usr/local/lib/python3.10/dist-packages (from gradio) (3.7.1)\n",
            "Requirement already satisfied: numpy~=1.0 in /usr/local/lib/python3.10/dist-packages (from gradio) (1.23.5)\n",
            "Requirement already satisfied: orjson~=3.0 in /usr/local/lib/python3.10/dist-packages (from gradio) (3.9.10)\n",
            "Requirement already satisfied: packaging in /usr/local/lib/python3.10/dist-packages (from gradio) (23.2)\n",
            "Requirement already satisfied: pandas<3.0,>=1.0 in /usr/local/lib/python3.10/dist-packages (from gradio) (1.5.3)\n",
            "Requirement already satisfied: pillow<11.0,>=8.0 in /usr/local/lib/python3.10/dist-packages (from gradio) (9.4.0)\n",
            "Requirement already satisfied: pydantic>=2.0 in /usr/local/lib/python3.10/dist-packages (from gradio) (2.5.1)\n",
            "Requirement already satisfied: pydub in /usr/local/lib/python3.10/dist-packages (from gradio) (0.25.1)\n",
            "Requirement already satisfied: python-multipart in /usr/local/lib/python3.10/dist-packages (from gradio) (0.0.6)\n",
            "Requirement already satisfied: pyyaml<7.0,>=5.0 in /usr/local/lib/python3.10/dist-packages (from gradio) (6.0.1)\n",
            "Requirement already satisfied: requests~=2.0 in /usr/local/lib/python3.10/dist-packages (from gradio) (2.31.0)\n",
            "Requirement already satisfied: semantic-version~=2.0 in /usr/local/lib/python3.10/dist-packages (from gradio) (2.10.0)\n",
            "Requirement already satisfied: tomlkit==0.12.0 in /usr/local/lib/python3.10/dist-packages (from gradio) (0.12.0)\n",
            "Requirement already satisfied: typer[all]<1.0,>=0.9 in /usr/local/lib/python3.10/dist-packages (from gradio) (0.9.0)\n",
            "Requirement already satisfied: typing-extensions~=4.0 in /usr/local/lib/python3.10/dist-packages (from gradio) (4.8.0)\n",
            "Requirement already satisfied: uvicorn>=0.14.0 in /usr/local/lib/python3.10/dist-packages (from gradio) (0.24.0.post1)\n",
            "Requirement already satisfied: fsspec in /usr/local/lib/python3.10/dist-packages (from gradio-client==0.7.0->gradio) (2023.6.0)\n",
            "Requirement already satisfied: websockets<12.0,>=10.0 in /usr/local/lib/python3.10/dist-packages (from gradio-client==0.7.0->gradio) (11.0.3)\n",
            "Requirement already satisfied: entrypoints in /usr/local/lib/python3.10/dist-packages (from altair<6.0,>=4.2.0->gradio) (0.4)\n",
            "Requirement already satisfied: jsonschema>=3.0 in /usr/local/lib/python3.10/dist-packages (from altair<6.0,>=4.2.0->gradio) (4.19.2)\n",
            "Requirement already satisfied: toolz in /usr/local/lib/python3.10/dist-packages (from altair<6.0,>=4.2.0->gradio) (0.12.0)\n",
            "Requirement already satisfied: filelock in /usr/local/lib/python3.10/dist-packages (from huggingface-hub>=0.14.0->gradio) (3.13.1)\n",
            "Requirement already satisfied: tqdm>=4.42.1 in /usr/local/lib/python3.10/dist-packages (from huggingface-hub>=0.14.0->gradio) (4.66.1)\n",
            "Requirement already satisfied: contourpy>=1.0.1 in /usr/local/lib/python3.10/dist-packages (from matplotlib~=3.0->gradio) (1.2.0)\n",
            "Requirement already satisfied: cycler>=0.10 in /usr/local/lib/python3.10/dist-packages (from matplotlib~=3.0->gradio) (0.12.1)\n",
            "Requirement already satisfied: fonttools>=4.22.0 in /usr/local/lib/python3.10/dist-packages (from matplotlib~=3.0->gradio) (4.44.3)\n",
            "Requirement already satisfied: kiwisolver>=1.0.1 in /usr/local/lib/python3.10/dist-packages (from matplotlib~=3.0->gradio) (1.4.5)\n",
            "Requirement already satisfied: pyparsing>=2.3.1 in /usr/local/lib/python3.10/dist-packages (from matplotlib~=3.0->gradio) (3.1.1)\n",
            "Requirement already satisfied: python-dateutil>=2.7 in /usr/local/lib/python3.10/dist-packages (from matplotlib~=3.0->gradio) (2.8.2)\n",
            "Requirement already satisfied: pytz>=2020.1 in /usr/local/lib/python3.10/dist-packages (from pandas<3.0,>=1.0->gradio) (2023.3.post1)\n",
            "Requirement already satisfied: annotated-types>=0.4.0 in /usr/local/lib/python3.10/dist-packages (from pydantic>=2.0->gradio) (0.6.0)\n",
            "Requirement already satisfied: pydantic-core==2.14.3 in /usr/local/lib/python3.10/dist-packages (from pydantic>=2.0->gradio) (2.14.3)\n",
            "Requirement already satisfied: charset-normalizer<4,>=2 in /usr/local/lib/python3.10/dist-packages (from requests~=2.0->gradio) (3.3.2)\n",
            "Requirement already satisfied: idna<4,>=2.5 in /usr/local/lib/python3.10/dist-packages (from requests~=2.0->gradio) (3.4)\n",
            "Requirement already satisfied: urllib3<3,>=1.21.1 in /usr/local/lib/python3.10/dist-packages (from requests~=2.0->gradio) (2.0.7)\n",
            "Requirement already satisfied: certifi>=2017.4.17 in /usr/local/lib/python3.10/dist-packages (from requests~=2.0->gradio) (2023.7.22)\n",
            "Requirement already satisfied: click<9.0.0,>=7.1.1 in /usr/local/lib/python3.10/dist-packages (from typer[all]<1.0,>=0.9->gradio) (8.1.7)\n",
            "Requirement already satisfied: colorama<0.5.0,>=0.4.3 in /usr/local/lib/python3.10/dist-packages (from typer[all]<1.0,>=0.9->gradio) (0.4.6)\n",
            "Requirement already satisfied: shellingham<2.0.0,>=1.3.0 in /usr/local/lib/python3.10/dist-packages (from typer[all]<1.0,>=0.9->gradio) (1.5.4)\n",
            "Requirement already satisfied: rich<14.0.0,>=10.11.0 in /usr/local/lib/python3.10/dist-packages (from typer[all]<1.0,>=0.9->gradio) (13.7.0)\n",
            "Requirement already satisfied: h11>=0.8 in /usr/local/lib/python3.10/dist-packages (from uvicorn>=0.14.0->gradio) (0.14.0)\n",
            "Requirement already satisfied: anyio<4.0.0,>=3.7.1 in /usr/local/lib/python3.10/dist-packages (from fastapi->gradio) (3.7.1)\n",
            "Requirement already satisfied: starlette<0.28.0,>=0.27.0 in /usr/local/lib/python3.10/dist-packages (from fastapi->gradio) (0.27.0)\n",
            "Requirement already satisfied: httpcore in /usr/local/lib/python3.10/dist-packages (from httpx->gradio) (1.0.2)\n",
            "Requirement already satisfied: sniffio in /usr/local/lib/python3.10/dist-packages (from httpx->gradio) (1.3.0)\n",
            "Requirement already satisfied: exceptiongroup in /usr/local/lib/python3.10/dist-packages (from anyio<4.0.0,>=3.7.1->fastapi->gradio) (1.1.3)\n",
            "Requirement already satisfied: attrs>=22.2.0 in /usr/local/lib/python3.10/dist-packages (from jsonschema>=3.0->altair<6.0,>=4.2.0->gradio) (23.1.0)\n",
            "Requirement already satisfied: jsonschema-specifications>=2023.03.6 in /usr/local/lib/python3.10/dist-packages (from jsonschema>=3.0->altair<6.0,>=4.2.0->gradio) (2023.11.1)\n",
            "Requirement already satisfied: referencing>=0.28.4 in /usr/local/lib/python3.10/dist-packages (from jsonschema>=3.0->altair<6.0,>=4.2.0->gradio) (0.31.0)\n",
            "Requirement already satisfied: rpds-py>=0.7.1 in /usr/local/lib/python3.10/dist-packages (from jsonschema>=3.0->altair<6.0,>=4.2.0->gradio) (0.12.0)\n",
            "Requirement already satisfied: six>=1.5 in /usr/local/lib/python3.10/dist-packages (from python-dateutil>=2.7->matplotlib~=3.0->gradio) (1.16.0)\n",
            "Requirement already satisfied: markdown-it-py>=2.2.0 in /usr/local/lib/python3.10/dist-packages (from rich<14.0.0,>=10.11.0->typer[all]<1.0,>=0.9->gradio) (3.0.0)\n",
            "Requirement already satisfied: pygments<3.0.0,>=2.13.0 in /usr/local/lib/python3.10/dist-packages (from rich<14.0.0,>=10.11.0->typer[all]<1.0,>=0.9->gradio) (2.16.1)\n",
            "Requirement already satisfied: mdurl~=0.1 in /usr/local/lib/python3.10/dist-packages (from markdown-it-py>=2.2.0->rich<14.0.0,>=10.11.0->typer[all]<1.0,>=0.9->gradio) (0.1.2)\n"
          ]
        }
      ]
    },
    {
      "cell_type": "code",
      "execution_count": 4,
      "metadata": {
        "id": "51OnzQXIG7Yx"
      },
      "outputs": [],
      "source": [
        "import numpy as np\n",
        "import gradio as gr"
      ]
    },
    {
      "cell_type": "markdown",
      "source": [
        "## Mount Google Drive\n",
        "- link colab to your Google Drive\n",
        "- set up function to save servey data as csv"
      ],
      "metadata": {
        "id": "kddU6dfvUdwh"
      }
    },
    {
      "cell_type": "code",
      "source": [
        "from google.colab import drive\n",
        "drive.mount('/content/drive')"
      ],
      "metadata": {
        "colab": {
          "base_uri": "https://localhost:8080/"
        },
        "id": "AhsL9OsAUm3S",
        "outputId": "e011b8c5-2408-45a5-d959-303175d7a0a4"
      },
      "execution_count": 5,
      "outputs": [
        {
          "output_type": "stream",
          "name": "stdout",
          "text": [
            "Mounted at /content/drive\n"
          ]
        }
      ]
    },
    {
      "cell_type": "code",
      "source": [
        "import os\n",
        "import pandas as pd\n",
        "\n",
        "\n",
        "def ensure_directory_exists(directory_path):\n",
        "    \"\"\"\n",
        "    Ensure that a directory exists at the specified 'directory_path'. If the directory does not exist, it will be created.\n",
        "    \"\"\"\n",
        "    if not os.path.exists(directory_path):\n",
        "        os.makedirs(directory_path)\n",
        "\n",
        "def ensure_csv_file_exists(file_path, header=None):\n",
        "    \"\"\"\n",
        "    Ensure that a CSV file exists at the specified 'file_path'. If the file does not exist, it will be created.\n",
        "    Optionally, you can provide a 'header' list to be written as the header row in the CSV file.\n",
        "    \"\"\"\n",
        "    if not pd.io.common.file_exists(file_path):\n",
        "        # If the file doesn't exist, create it and optionally write the header\n",
        "        df = pd.DataFrame(columns=header) if header else pd.DataFrame()\n",
        "        df.to_csv(file_path, index=False)\n",
        "\n",
        "def add_observation_to_csv(file_path, observation):\n",
        "    \"\"\"\n",
        "    Add a new observation to the CSV file at the specified 'file_path'.\n",
        "    The 'observation' should be a list or a tuple containing the values for each column.\n",
        "    \"\"\"\n",
        "    ensure_csv_file_exists(file_path)  # Make sure the file exists\n",
        "    df = pd.read_csv(file_path)  # Read existing data\n",
        "\n",
        "    new_row = pd.Series(observation, index=df.columns)  # Create a new row\n",
        "    df = df.append(new_row, ignore_index=True)  # Append the new row\n",
        "\n",
        "    df.to_csv(file_path, index=False)  # Write back to the CSV file"
      ],
      "metadata": {
        "id": "ksMr3aVBVF6x"
      },
      "execution_count": 6,
      "outputs": []
    },
    {
      "cell_type": "markdown",
      "source": [
        "## upload and Save CSI data in Google Drive\n",
        "- set up directory: change `save_dir='to your own directory in Google Drive'`\n"
      ],
      "metadata": {
        "id": "RzzfYpX_XZdS"
      }
    },
    {
      "cell_type": "code",
      "source": [
        "def Collect_CSI_Save_CSV(uid, data_rates, data_counts, save_dir='/content/drive/MyDrive/AIGC_Research', csv_name='CSI_data_collection.csv'):\n",
        "  gr.Info('Submit button clicked!')\n",
        "  uid = int(uid)\n",
        "\n",
        "  rates=list(data_rates.values())\n",
        "  Exploration_rate = rates[0]\n",
        "  Expressiveness_rate = rates[1]\n",
        "  Immersion_rate = rates[2]\n",
        "  EffortResults_rate = rates[3]\n",
        "  Enjoyment_rate = rates[4]\n",
        "  Collaboration_rate = rates[5]\n",
        "\n",
        "  counts=list(data_counts.values())\n",
        "  Exploration_count = counts[0]\n",
        "  Expressiveness_count = counts[1]\n",
        "  Immersion_count = counts[2]\n",
        "  EffortResults_count = counts[3]\n",
        "  Enjoyment_count = counts[4]\n",
        "  Collaboration_count = counts[5]\n",
        "\n",
        "  CSI_index = (Exploration_rate*Exploration_count\n",
        "          +Expressiveness_rate*Expressiveness_count\n",
        "          +Immersion_rate*Immersion_count\n",
        "          +EffortResults_rate*EffortResults_count\n",
        "          +Enjoyment_rate*Enjoyment_count\n",
        "          +Collaboration_rate*Collaboration_count\n",
        "          )/1.5\n",
        "\n",
        "  csv_header = ['uid', 'CSI', 'Exploration', 'Expressiveness', 'Immersion', 'EffortResults', 'Enjoyment', 'Collaboration',\n",
        "                'Exploration_count', 'Expressiveness_count', 'Immersion_count', 'EffortResults_count', 'Enjoyment_count', 'Collaboration_count']\n",
        "\n",
        "\n",
        "  new_observation = [uid, CSI_index, Exploration_rate, Expressiveness_rate, Immersion_rate, EffortResults_rate, Enjoyment_rate, Collaboration_rate,\n",
        "                     Exploration_count, Expressiveness_count, Immersion_count, EffortResults_count, Enjoyment_count, Collaboration_count]\n",
        "\n",
        "  #save to csv\n",
        "  csv_file_path = os.path.join(save_dir, csv_name)\n",
        "  ensure_csv_file_exists(csv_file_path, header=csv_header)\n",
        "  add_observation_to_csv(csv_file_path, new_observation)\n",
        "\n",
        "  print(\"uid {} rate CSI:{}\".format(uid, CSI_index))\n",
        "\n",
        "  gr.Info(\"csv file saved\")"
      ],
      "metadata": {
        "id": "PW3q0H19VpBO"
      },
      "execution_count": 18,
      "outputs": []
    },
    {
      "cell_type": "markdown",
      "source": [
        "## Gradio UI"
      ],
      "metadata": {
        "id": "UfqwmbqcUXfn"
      }
    },
    {
      "cell_type": "code",
      "source": [
        "# def hello_world(data):\n",
        "#   gr.Info('Submit button clicked!')\n",
        "#   count_pair_value(data)\n",
        "#   # return \"Submit Successful!\"\n",
        "#   return count_pair_value(data)\n",
        "\n",
        "def count_pair_value(state,group_1_1,group_1_2,group_1_3,group_1_4,group_1_5,group_2_1,group_2_2,group_2_3,group_2_4,group_3_1,group_3_2,group_3_3,group_4_1,group_4_2,group_5_1):\n",
        "  data = [group_1_1,group_1_2,group_1_3,group_1_4,group_1_5,group_2_1,group_2_2,group_2_3,group_2_4,group_3_1,group_3_2,group_3_3,group_4_1,group_4_2,group_5_1]\n",
        "  given_terms = ['Exploration', 'Expressiveness', 'Immersion', 'EffortResults', 'Enjoyment', 'Collaboration']\n",
        "  # Dictionary to store counts of specific names\n",
        "  term_counts = {key: 0 for key in given_terms}\n",
        "\n",
        "  for term in data:\n",
        "    if term in term_counts:\n",
        "        term_counts[term] += 1\n",
        "  # count_state = term_counts.values()\n",
        "  state = term_counts\n",
        "  print(term_counts)\n",
        "  return str(term_counts.values()), state\n",
        "\n",
        "\n",
        "def count_slider_value(state,slider_1,slider_2,slider_3,slider_4,slider_5,slider_6):\n",
        "  term_rates = {'Exploration': slider_1,\n",
        "          'Expressiveness': slider_2,\n",
        "          'Immersion': slider_3,\n",
        "          'EffortResults': slider_4,\n",
        "          'Enjoyment': slider_5,\n",
        "          'Collaboration': slider_6}\n",
        "  state = term_rates\n",
        "  print(term_rates)\n",
        "  return str(term_rates.values()), state\n",
        "\n",
        "with gr.Blocks() as demo:\n",
        "  slider_state = gr.State()\n",
        "  radio_state = gr.State()\n",
        "  gr.Markdown(\"Creative Support index\")\n",
        "  # gr.Markdown(value=count_state)\n",
        "    # with gr.Tab(\"Flip Text\"):\n",
        "  # text_input = gr.Textbox(label=\"User ID\")\n",
        "  uid = gr.Dropdown(choices=list(range(0,19)))\n",
        "  with gr.Row():\n",
        "    with gr.Column(scale=3):\n",
        "      gr.Markdown(\"Highly Disagree ------------------------------------------------------------------------------------  Highly Agree\")\n",
        "      slider_1 = gr.Slider(0, 10, step=1, label=\"Result Worth Effort\",\n",
        "                info=\"What I was able to produce was worth the effort I had to exert to produce it.\")\n",
        "      slider_2 = gr.Slider(0, 10, step=1, label=\"Expressiveness\",\n",
        "                info=\"I was able to be very expressive and creative while doing the activity.\")\n",
        "      slider_3 = gr.Slider(0, 10, step=1, label=\"Exploration\",\n",
        "                info=\"It was easy for me to explore many different ideas, options, designs, or outcomes.\")\n",
        "      slider_4 = gr.Slider(0, 10, step=1, label=\"Immersion\",\n",
        "                info=\"My attention was fully tuned to the activity, and I forgot about the system/tool I was using. \")\n",
        "      slider_5 = gr.Slider(0, 10, step=1, label=\"Enjoyment\",\n",
        "                info=\"I was very engaged in this activity I enjoyed this activity and would do it again.\")\n",
        "      slider_6 = gr.Slider(0, 10, step=1, label=\"Collaboration\",\n",
        "                info=\"The system/tool allowed other people to work with me easily.\")\n",
        "    with gr.Column(scale=3):\n",
        "      gr.Markdown(\"For each pair below, please select which factor is more important to you when doing the activity:\")\n",
        "      # gr.Markdown(count_state)\n",
        "      # Exploration\n",
        "      group_1_1 = gr.Radio([\"Exploration\", \"Collaboration\"], show_label=False)\n",
        "      group_1_2 = gr.Radio([\"Exploration\", \"Enjoyment\"], show_label=False)\n",
        "      group_1_3 = gr.Radio([\"Exploration\", \"Result Worth Effort\"], show_label=False)\n",
        "      group_1_4 = gr.Radio([\"Exploration\", \"Immersion\"], show_label=False)\n",
        "      group_1_5 = gr.Radio([\"Exploration\", \"Expressiveness\"], show_label=False)\n",
        "      # Collaboration\n",
        "      group_2_1 = gr.Radio([\"Collaboration\", \"Enjoyment\"], show_label=False)\n",
        "      group_2_2 = gr.Radio([\"Collaboration\", \"Result Worth Effort\"], show_label=False)\n",
        "      group_2_3 = gr.Radio([\"Collaboration\", \"Immersion\"], show_label=False)\n",
        "      group_2_4 = gr.Radio([\"Collaboration\", \"Expressiveness\"], show_label=False)\n",
        "      # Expressiveness\n",
        "      group_3_1 = gr.Radio([\"Expressiveness\", \"Result Worth Effort\"], show_label=False)\n",
        "      group_3_2 = gr.Radio([\"Expressiveness\", \"Immersion\"], show_label=False)\n",
        "      group_3_3 = gr.Radio([\"Expressiveness\", \"Enjoyment\"], show_label=False)\n",
        "      # Enjoyment\n",
        "      group_4_1 = gr.Radio([\"Enjoyment\", \"Immersion\"], show_label=False)\n",
        "      group_4_2 = gr.Radio([\"Enjoyment\", \"Result Worth Effort\"], show_label=False)\n",
        "      # immersion\n",
        "      group_5_1 = gr.Radio([\"Immersion\", \"Result Worth Effort\"], show_label=False)\n",
        "\n",
        "\n",
        "  submit_btn = gr.Button(value=\"Submit\")\n",
        "  md = gr.Markdown()\n",
        "  mdd = gr.Markdown()\n",
        "  group_5_1.select(count_pair_value, inputs=[radio_state, group_1_1,group_1_2,group_1_3,group_1_4,group_1_5,group_2_1,group_2_2,group_2_3,group_2_4,group_3_1,group_3_2,group_3_3,group_4_1,group_4_2,group_5_1] ,outputs=[mdd, radio_state])\n",
        "  slider_6.release(count_slider_value, inputs=[slider_state,slider_1,slider_2,slider_3,slider_4,slider_5,slider_6], outputs=[md, slider_state])\n",
        "  submit_btn.click(Collect_CSI_Save_CSV, inputs=[uid, slider_state, radio_state], outputs=[md])\n",
        "demo.launch(debug=True)"
      ],
      "metadata": {
        "colab": {
          "base_uri": "https://localhost:8080/",
          "height": 746
        },
        "id": "XgBvQYhGHCPU",
        "outputId": "9ad5ed88-2614-4507-ebb2-a1a987189f80"
      },
      "execution_count": 19,
      "outputs": [
        {
          "output_type": "stream",
          "name": "stdout",
          "text": [
            "Setting queue=True in a Colab notebook requires sharing enabled. Setting `share=True` (you can turn this off by setting `share=False` in `launch()` explicitly).\n",
            "\n",
            "Colab notebook detected. This cell will run indefinitely so that you can see errors and logs. To turn off, set debug=False in launch().\n",
            "Running on public URL: https://cc9e5b3921fac4c118.gradio.live\n",
            "\n",
            "This share link expires in 72 hours. For free permanent hosting and GPU upgrades, run `gradio deploy` from Terminal to deploy to Spaces (https://huggingface.co/spaces)\n"
          ]
        },
        {
          "output_type": "display_data",
          "data": {
            "text/plain": [
              "<IPython.core.display.HTML object>"
            ],
            "text/html": [
              "<div><iframe src=\"https://cc9e5b3921fac4c118.gradio.live\" width=\"100%\" height=\"500\" allow=\"autoplay; camera; microphone; clipboard-read; clipboard-write;\" frameborder=\"0\" allowfullscreen></iframe></div>"
            ]
          },
          "metadata": {}
        },
        {
          "output_type": "stream",
          "name": "stdout",
          "text": [
            "{'Exploration': 10, 'Expressiveness': 10, 'Immersion': 9, 'EffortResults': 9, 'Enjoyment': 9, 'Collaboration': 9}\n",
            "{'Exploration': 5, 'Expressiveness': 3, 'Immersion': 1, 'EffortResults': 0, 'Enjoyment': 2, 'Collaboration': 4}\n"
          ]
        },
        {
          "output_type": "stream",
          "name": "stderr",
          "text": [
            "<ipython-input-6-1c8d1ae10514>:31: FutureWarning: The frame.append method is deprecated and will be removed from pandas in a future version. Use pandas.concat instead.\n",
            "  df = df.append(new_row, ignore_index=True)  # Append the new row\n"
          ]
        },
        {
          "output_type": "stream",
          "name": "stdout",
          "text": [
            "uid 0 rate CSI:95.33333333333333\n",
            "Keyboard interruption in main thread... closing server.\n",
            "Killing tunnel 127.0.0.1:7860 <> https://cc9e5b3921fac4c118.gradio.live\n"
          ]
        },
        {
          "output_type": "execute_result",
          "data": {
            "text/plain": []
          },
          "metadata": {},
          "execution_count": 19
        }
      ]
    },
    {
      "cell_type": "markdown",
      "source": [
        "## Data Visualization\n",
        "- histogram"
      ],
      "metadata": {
        "id": "RPhWVc-1_xKz"
      }
    },
    {
      "cell_type": "code",
      "source": [],
      "metadata": {
        "id": "PJP897FLmke5"
      },
      "execution_count": null,
      "outputs": []
    }
  ]
}